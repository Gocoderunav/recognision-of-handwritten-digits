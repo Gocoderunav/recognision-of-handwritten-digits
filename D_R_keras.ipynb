{
  "cells": [
    {
      "cell_type": "code",
      "execution_count": null,
      "metadata": {
        "id": "DhN1M1MxSmaS"
      },
      "outputs": [],
      "source": [
        "#naming scheme for saving models\n",
        "#D_R_(no of layers)_(no of units in layer 1)...._(activation function in layer 1)_(batch size)_(epoch)_(Digit against which targeted training is being done )"
      ]
    },
    {
      "cell_type": "code",
      "execution_count": null,
      "metadata": {
        "id": "nzh3WIoRYKmj",
        "colab": {
          "base_uri": "https://localhost:8080/"
        },
        "outputId": "4ba6b0b3-86ad-49af-da82-fea50306260a"
      },
      "outputs": [
        {
          "output_type": "stream",
          "name": "stderr",
          "text": [
            "<ipython-input-1-2c492d939144>:24: SettingWithCopyWarning: \n",
            "A value is trying to be set on a copy of a slice from a DataFrame.\n",
            "Try using .loc[row_indexer,col_indexer] = value instead\n",
            "\n",
            "See the caveats in the documentation: https://pandas.pydata.org/pandas-docs/stable/user_guide/indexing.html#returning-a-view-versus-a-copy\n",
            "  data_train[col] = min_max_scaling(data_train[col])\n",
            "<ipython-input-1-2c492d939144>:26: SettingWithCopyWarning: \n",
            "A value is trying to be set on a copy of a slice from a DataFrame.\n",
            "Try using .loc[row_indexer,col_indexer] = value instead\n",
            "\n",
            "See the caveats in the documentation: https://pandas.pydata.org/pandas-docs/stable/user_guide/indexing.html#returning-a-view-versus-a-copy\n",
            "  data_test[col] = min_max_scaling(data_test[col])\n"
          ]
        }
      ],
      "source": [
        "from __future__ import absolute_import, division, print_function, unicode_literals\n",
        "\n",
        "import numpy as np\n",
        "import pandas as pd\n",
        "import matplotlib.pyplot as plt\n",
        "from IPython.display import clear_output\n",
        "from six.moves import urllib\n",
        "import keras\n",
        "import tensorflow.compat.v2.feature_column as fc\n",
        "\n",
        "import tensorflow as tf\n",
        "data = pd.read_csv(\"sample_data/mnist_test.csv\")\n",
        "digits = data.pop(\"7\")\n",
        "digits_train = digits[0:7000]\n",
        "digits_test = digits[7000:]\n",
        "data_train = data[0:7000]\n",
        "data_test = data[7000:]\n",
        "digits_train = tf.keras.utils.to_categorical(digits_train)\n",
        "digits_test = tf.keras.utils.to_categorical(digits_test)\n",
        "def min_max_scaling(series):\n",
        "    return (series) / (255)\n",
        "\n",
        "for col in data_train.columns:\n",
        "    data_train[col] = min_max_scaling(data_train[col])\n",
        "for col in data_test.columns:\n",
        "    data_test[col] = min_max_scaling(data_test[col])\n"
      ]
    },
    {
      "cell_type": "code",
      "execution_count": null,
      "metadata": {
        "colab": {
          "base_uri": "https://localhost:8080/",
          "height": 235
        },
        "id": "fzvISuO5i-h4",
        "outputId": "d6b2ed0b-e1ca-48d9-8ee8-4b37fc80b7c6"
      },
      "outputs": [
        {
          "output_type": "execute_result",
          "data": {
            "text/plain": [
              "     0  0.1  0.2  0.3  0.4  0.5  0.6  0.7  0.8  0.9  ...  0.658  0.659  0.660  \\\n",
              "0  0.0  0.0  0.0  0.0  0.0  0.0  0.0  0.0  0.0  0.0  ...    0.0    0.0    0.0   \n",
              "1  0.0  0.0  0.0  0.0  0.0  0.0  0.0  0.0  0.0  0.0  ...    0.0    0.0    0.0   \n",
              "2  0.0  0.0  0.0  0.0  0.0  0.0  0.0  0.0  0.0  0.0  ...    0.0    0.0    0.0   \n",
              "3  0.0  0.0  0.0  0.0  0.0  0.0  0.0  0.0  0.0  0.0  ...    0.0    0.0    0.0   \n",
              "4  0.0  0.0  0.0  0.0  0.0  0.0  0.0  0.0  0.0  0.0  ...    0.0    0.0    0.0   \n",
              "\n",
              "   0.661  0.662  0.663  0.664  0.665  0.666  0.667  \n",
              "0    0.0    0.0    0.0    0.0    0.0    0.0    0.0  \n",
              "1    0.0    0.0    0.0    0.0    0.0    0.0    0.0  \n",
              "2    0.0    0.0    0.0    0.0    0.0    0.0    0.0  \n",
              "3    0.0    0.0    0.0    0.0    0.0    0.0    0.0  \n",
              "4    0.0    0.0    0.0    0.0    0.0    0.0    0.0  \n",
              "\n",
              "[5 rows x 784 columns]"
            ],
            "text/html": [
              "\n",
              "\n",
              "  <div id=\"df-311e68b1-43d3-466a-a9a8-9ecb66fc0f35\">\n",
              "    <div class=\"colab-df-container\">\n",
              "      <div>\n",
              "<style scoped>\n",
              "    .dataframe tbody tr th:only-of-type {\n",
              "        vertical-align: middle;\n",
              "    }\n",
              "\n",
              "    .dataframe tbody tr th {\n",
              "        vertical-align: top;\n",
              "    }\n",
              "\n",
              "    .dataframe thead th {\n",
              "        text-align: right;\n",
              "    }\n",
              "</style>\n",
              "<table border=\"1\" class=\"dataframe\">\n",
              "  <thead>\n",
              "    <tr style=\"text-align: right;\">\n",
              "      <th></th>\n",
              "      <th>0</th>\n",
              "      <th>0.1</th>\n",
              "      <th>0.2</th>\n",
              "      <th>0.3</th>\n",
              "      <th>0.4</th>\n",
              "      <th>0.5</th>\n",
              "      <th>0.6</th>\n",
              "      <th>0.7</th>\n",
              "      <th>0.8</th>\n",
              "      <th>0.9</th>\n",
              "      <th>...</th>\n",
              "      <th>0.658</th>\n",
              "      <th>0.659</th>\n",
              "      <th>0.660</th>\n",
              "      <th>0.661</th>\n",
              "      <th>0.662</th>\n",
              "      <th>0.663</th>\n",
              "      <th>0.664</th>\n",
              "      <th>0.665</th>\n",
              "      <th>0.666</th>\n",
              "      <th>0.667</th>\n",
              "    </tr>\n",
              "  </thead>\n",
              "  <tbody>\n",
              "    <tr>\n",
              "      <th>0</th>\n",
              "      <td>0.0</td>\n",
              "      <td>0.0</td>\n",
              "      <td>0.0</td>\n",
              "      <td>0.0</td>\n",
              "      <td>0.0</td>\n",
              "      <td>0.0</td>\n",
              "      <td>0.0</td>\n",
              "      <td>0.0</td>\n",
              "      <td>0.0</td>\n",
              "      <td>0.0</td>\n",
              "      <td>...</td>\n",
              "      <td>0.0</td>\n",
              "      <td>0.0</td>\n",
              "      <td>0.0</td>\n",
              "      <td>0.0</td>\n",
              "      <td>0.0</td>\n",
              "      <td>0.0</td>\n",
              "      <td>0.0</td>\n",
              "      <td>0.0</td>\n",
              "      <td>0.0</td>\n",
              "      <td>0.0</td>\n",
              "    </tr>\n",
              "    <tr>\n",
              "      <th>1</th>\n",
              "      <td>0.0</td>\n",
              "      <td>0.0</td>\n",
              "      <td>0.0</td>\n",
              "      <td>0.0</td>\n",
              "      <td>0.0</td>\n",
              "      <td>0.0</td>\n",
              "      <td>0.0</td>\n",
              "      <td>0.0</td>\n",
              "      <td>0.0</td>\n",
              "      <td>0.0</td>\n",
              "      <td>...</td>\n",
              "      <td>0.0</td>\n",
              "      <td>0.0</td>\n",
              "      <td>0.0</td>\n",
              "      <td>0.0</td>\n",
              "      <td>0.0</td>\n",
              "      <td>0.0</td>\n",
              "      <td>0.0</td>\n",
              "      <td>0.0</td>\n",
              "      <td>0.0</td>\n",
              "      <td>0.0</td>\n",
              "    </tr>\n",
              "    <tr>\n",
              "      <th>2</th>\n",
              "      <td>0.0</td>\n",
              "      <td>0.0</td>\n",
              "      <td>0.0</td>\n",
              "      <td>0.0</td>\n",
              "      <td>0.0</td>\n",
              "      <td>0.0</td>\n",
              "      <td>0.0</td>\n",
              "      <td>0.0</td>\n",
              "      <td>0.0</td>\n",
              "      <td>0.0</td>\n",
              "      <td>...</td>\n",
              "      <td>0.0</td>\n",
              "      <td>0.0</td>\n",
              "      <td>0.0</td>\n",
              "      <td>0.0</td>\n",
              "      <td>0.0</td>\n",
              "      <td>0.0</td>\n",
              "      <td>0.0</td>\n",
              "      <td>0.0</td>\n",
              "      <td>0.0</td>\n",
              "      <td>0.0</td>\n",
              "    </tr>\n",
              "    <tr>\n",
              "      <th>3</th>\n",
              "      <td>0.0</td>\n",
              "      <td>0.0</td>\n",
              "      <td>0.0</td>\n",
              "      <td>0.0</td>\n",
              "      <td>0.0</td>\n",
              "      <td>0.0</td>\n",
              "      <td>0.0</td>\n",
              "      <td>0.0</td>\n",
              "      <td>0.0</td>\n",
              "      <td>0.0</td>\n",
              "      <td>...</td>\n",
              "      <td>0.0</td>\n",
              "      <td>0.0</td>\n",
              "      <td>0.0</td>\n",
              "      <td>0.0</td>\n",
              "      <td>0.0</td>\n",
              "      <td>0.0</td>\n",
              "      <td>0.0</td>\n",
              "      <td>0.0</td>\n",
              "      <td>0.0</td>\n",
              "      <td>0.0</td>\n",
              "    </tr>\n",
              "    <tr>\n",
              "      <th>4</th>\n",
              "      <td>0.0</td>\n",
              "      <td>0.0</td>\n",
              "      <td>0.0</td>\n",
              "      <td>0.0</td>\n",
              "      <td>0.0</td>\n",
              "      <td>0.0</td>\n",
              "      <td>0.0</td>\n",
              "      <td>0.0</td>\n",
              "      <td>0.0</td>\n",
              "      <td>0.0</td>\n",
              "      <td>...</td>\n",
              "      <td>0.0</td>\n",
              "      <td>0.0</td>\n",
              "      <td>0.0</td>\n",
              "      <td>0.0</td>\n",
              "      <td>0.0</td>\n",
              "      <td>0.0</td>\n",
              "      <td>0.0</td>\n",
              "      <td>0.0</td>\n",
              "      <td>0.0</td>\n",
              "      <td>0.0</td>\n",
              "    </tr>\n",
              "  </tbody>\n",
              "</table>\n",
              "<p>5 rows × 784 columns</p>\n",
              "</div>\n",
              "      <button class=\"colab-df-convert\" onclick=\"convertToInteractive('df-311e68b1-43d3-466a-a9a8-9ecb66fc0f35')\"\n",
              "              title=\"Convert this dataframe to an interactive table.\"\n",
              "              style=\"display:none;\">\n",
              "\n",
              "  <svg xmlns=\"http://www.w3.org/2000/svg\" height=\"24px\"viewBox=\"0 0 24 24\"\n",
              "       width=\"24px\">\n",
              "    <path d=\"M0 0h24v24H0V0z\" fill=\"none\"/>\n",
              "    <path d=\"M18.56 5.44l.94 2.06.94-2.06 2.06-.94-2.06-.94-.94-2.06-.94 2.06-2.06.94zm-11 1L8.5 8.5l.94-2.06 2.06-.94-2.06-.94L8.5 2.5l-.94 2.06-2.06.94zm10 10l.94 2.06.94-2.06 2.06-.94-2.06-.94-.94-2.06-.94 2.06-2.06.94z\"/><path d=\"M17.41 7.96l-1.37-1.37c-.4-.4-.92-.59-1.43-.59-.52 0-1.04.2-1.43.59L10.3 9.45l-7.72 7.72c-.78.78-.78 2.05 0 2.83L4 21.41c.39.39.9.59 1.41.59.51 0 1.02-.2 1.41-.59l7.78-7.78 2.81-2.81c.8-.78.8-2.07 0-2.86zM5.41 20L4 18.59l7.72-7.72 1.47 1.35L5.41 20z\"/>\n",
              "  </svg>\n",
              "      </button>\n",
              "\n",
              "\n",
              "\n",
              "    <div id=\"df-b1d79b7b-34c3-4638-8b31-ae97cd605a4f\">\n",
              "      <button class=\"colab-df-quickchart\" onclick=\"quickchart('df-b1d79b7b-34c3-4638-8b31-ae97cd605a4f')\"\n",
              "              title=\"Suggest charts.\"\n",
              "              style=\"display:none;\">\n",
              "\n",
              "<svg xmlns=\"http://www.w3.org/2000/svg\" height=\"24px\"viewBox=\"0 0 24 24\"\n",
              "     width=\"24px\">\n",
              "    <g>\n",
              "        <path d=\"M19 3H5c-1.1 0-2 .9-2 2v14c0 1.1.9 2 2 2h14c1.1 0 2-.9 2-2V5c0-1.1-.9-2-2-2zM9 17H7v-7h2v7zm4 0h-2V7h2v10zm4 0h-2v-4h2v4z\"/>\n",
              "    </g>\n",
              "</svg>\n",
              "      </button>\n",
              "    </div>\n",
              "\n",
              "<style>\n",
              "  .colab-df-quickchart {\n",
              "    background-color: #E8F0FE;\n",
              "    border: none;\n",
              "    border-radius: 50%;\n",
              "    cursor: pointer;\n",
              "    display: none;\n",
              "    fill: #1967D2;\n",
              "    height: 32px;\n",
              "    padding: 0 0 0 0;\n",
              "    width: 32px;\n",
              "  }\n",
              "\n",
              "  .colab-df-quickchart:hover {\n",
              "    background-color: #E2EBFA;\n",
              "    box-shadow: 0px 1px 2px rgba(60, 64, 67, 0.3), 0px 1px 3px 1px rgba(60, 64, 67, 0.15);\n",
              "    fill: #174EA6;\n",
              "  }\n",
              "\n",
              "  [theme=dark] .colab-df-quickchart {\n",
              "    background-color: #3B4455;\n",
              "    fill: #D2E3FC;\n",
              "  }\n",
              "\n",
              "  [theme=dark] .colab-df-quickchart:hover {\n",
              "    background-color: #434B5C;\n",
              "    box-shadow: 0px 1px 3px 1px rgba(0, 0, 0, 0.15);\n",
              "    filter: drop-shadow(0px 1px 2px rgba(0, 0, 0, 0.3));\n",
              "    fill: #FFFFFF;\n",
              "  }\n",
              "</style>\n",
              "\n",
              "    <script>\n",
              "      async function quickchart(key) {\n",
              "        const containerElement = document.querySelector('#' + key);\n",
              "        const charts = await google.colab.kernel.invokeFunction(\n",
              "            'suggestCharts', [key], {});\n",
              "      }\n",
              "    </script>\n",
              "\n",
              "      <script>\n",
              "\n",
              "function displayQuickchartButton(domScope) {\n",
              "  let quickchartButtonEl =\n",
              "    domScope.querySelector('#df-b1d79b7b-34c3-4638-8b31-ae97cd605a4f button.colab-df-quickchart');\n",
              "  quickchartButtonEl.style.display =\n",
              "    google.colab.kernel.accessAllowed ? 'block' : 'none';\n",
              "}\n",
              "\n",
              "        displayQuickchartButton(document);\n",
              "      </script>\n",
              "      <style>\n",
              "    .colab-df-container {\n",
              "      display:flex;\n",
              "      flex-wrap:wrap;\n",
              "      gap: 12px;\n",
              "    }\n",
              "\n",
              "    .colab-df-convert {\n",
              "      background-color: #E8F0FE;\n",
              "      border: none;\n",
              "      border-radius: 50%;\n",
              "      cursor: pointer;\n",
              "      display: none;\n",
              "      fill: #1967D2;\n",
              "      height: 32px;\n",
              "      padding: 0 0 0 0;\n",
              "      width: 32px;\n",
              "    }\n",
              "\n",
              "    .colab-df-convert:hover {\n",
              "      background-color: #E2EBFA;\n",
              "      box-shadow: 0px 1px 2px rgba(60, 64, 67, 0.3), 0px 1px 3px 1px rgba(60, 64, 67, 0.15);\n",
              "      fill: #174EA6;\n",
              "    }\n",
              "\n",
              "    [theme=dark] .colab-df-convert {\n",
              "      background-color: #3B4455;\n",
              "      fill: #D2E3FC;\n",
              "    }\n",
              "\n",
              "    [theme=dark] .colab-df-convert:hover {\n",
              "      background-color: #434B5C;\n",
              "      box-shadow: 0px 1px 3px 1px rgba(0, 0, 0, 0.15);\n",
              "      filter: drop-shadow(0px 1px 2px rgba(0, 0, 0, 0.3));\n",
              "      fill: #FFFFFF;\n",
              "    }\n",
              "  </style>\n",
              "\n",
              "      <script>\n",
              "        const buttonEl =\n",
              "          document.querySelector('#df-311e68b1-43d3-466a-a9a8-9ecb66fc0f35 button.colab-df-convert');\n",
              "        buttonEl.style.display =\n",
              "          google.colab.kernel.accessAllowed ? 'block' : 'none';\n",
              "\n",
              "        async function convertToInteractive(key) {\n",
              "          const element = document.querySelector('#df-311e68b1-43d3-466a-a9a8-9ecb66fc0f35');\n",
              "          const dataTable =\n",
              "            await google.colab.kernel.invokeFunction('convertToInteractive',\n",
              "                                                     [key], {});\n",
              "          if (!dataTable) return;\n",
              "\n",
              "          const docLinkHtml = 'Like what you see? Visit the ' +\n",
              "            '<a target=\"_blank\" href=https://colab.research.google.com/notebooks/data_table.ipynb>data table notebook</a>'\n",
              "            + ' to learn more about interactive tables.';\n",
              "          element.innerHTML = '';\n",
              "          dataTable['output_type'] = 'display_data';\n",
              "          await google.colab.output.renderOutput(dataTable, element);\n",
              "          const docLink = document.createElement('div');\n",
              "          docLink.innerHTML = docLinkHtml;\n",
              "          element.appendChild(docLink);\n",
              "        }\n",
              "      </script>\n",
              "    </div>\n",
              "  </div>\n"
            ]
          },
          "metadata": {},
          "execution_count": 32
        }
      ],
      "source": [
        "data_train.head()"
      ]
    },
    {
      "cell_type": "code",
      "execution_count": null,
      "metadata": {
        "colab": {
          "base_uri": "https://localhost:8080/"
        },
        "id": "4CdyMiY-humU",
        "outputId": "dac360ee-aae6-4276-eedc-783851a2e991"
      },
      "outputs": [
        {
          "output_type": "stream",
          "name": "stdout",
          "text": [
            "Epoch 1/20\n",
            "10/10 [==============================] - 16s 1s/step - loss: 1.9626 - accuracy: 0.4074 - val_loss: 1.2699 - val_accuracy: 0.6395\n",
            "Epoch 2/20\n"
          ]
        }
      ],
      "source": [
        "#this is for saving the model after it being trained once\n",
        "model = tf.keras.Sequential()\n",
        "\n",
        "model.add(tf.keras.layers.Dense(784,input_shape = (784,)))\n",
        "model.add(tf.keras.layers.Dense(4000,activation = \"selu\"))\n",
        "model.add(tf.keras.layers.Dense(1100,activation = 'exponential'))\n",
        "\n",
        "model.add(tf.keras.layers.Dense(10,activation = \"softmax\"))\n",
        "          #model.add(tf.keras.layers.Dense(1,activation = None))\n",
        "\n",
        "\n",
        "model.compile(\n",
        "          optimizer = \"SGD\",\n",
        "          loss = 'CategoricalCrossentropy',\n",
        "          metrics = [\"accuracy\"],\n",
        "          loss_weights = None,\n",
        "          sample_weight_mode = None,\n",
        "          weighted_metrics = None,\n",
        "          target_tensors = None\n",
        "          )\n",
        "\n",
        "model.fit(data_train, digits_train,validation_data=(data_test, digits_test),\n",
        "    # it will use 'batch_size' number\n",
        "    # of examples per example\n",
        "    batch_size = 700,\n",
        "    epochs = 20,  # total epoch\n",
        "    )\n",
        "\n"
      ]
    },
    {
      "cell_type": "code",
      "source": [
        "#saving model\n",
        "model.save('D_R_2_4000_1100_selu_exponential_700_20_initialization.keras')"
      ],
      "metadata": {
        "id": "1g5URAtaaVWA"
      },
      "execution_count": null,
      "outputs": []
    },
    {
      "cell_type": "code",
      "source": [
        "new_model = tf.keras.models.load_model('D_R_2_4000_1100_selu_exponential_700_20_initialization.keras')\n",
        "# Check its architecture\n",
        "new_model.summary()\n"
      ],
      "metadata": {
        "colab": {
          "base_uri": "https://localhost:8080/"
        },
        "id": "71LVJZDMEmSO",
        "outputId": "ac4750b4-8d67-4ffc-dbf2-df95103ad3f2"
      },
      "execution_count": null,
      "outputs": [
        {
          "output_type": "stream",
          "name": "stdout",
          "text": [
            "Model: \"sequential\"\n",
            "_________________________________________________________________\n",
            " Layer (type)                Output Shape              Param #   \n",
            "=================================================================\n",
            " dense (Dense)               (None, 784)               615440    \n",
            "                                                                 \n",
            " dense_1 (Dense)             (None, 4000)              3140000   \n",
            "                                                                 \n",
            " dense_2 (Dense)             (None, 1100)              4401100   \n",
            "                                                                 \n",
            " dense_3 (Dense)             (None, 10)                11010     \n",
            "                                                                 \n",
            "=================================================================\n",
            "Total params: 8,167,550\n",
            "Trainable params: 8,167,550\n",
            "Non-trainable params: 0\n",
            "_________________________________________________________________\n"
          ]
        }
      ]
    },
    {
      "cell_type": "code",
      "source": [
        "train_loss, train_acc  = new_model.evaluate(data_train,  digits_train)\n",
        "test_loss, test_acc  = new_model.evaluate(data_test,  digits_test)\n",
        "digits_test_predict = new_model.predict(data_test)\n",
        "con_mat = tf.math.confusion_matrix(labels=digits_test.argmax(axis=1), predictions=digits_test_predict.argmax(axis=1)).numpy()\n"
      ],
      "metadata": {
        "id": "tlN1KRZaaT9r"
      },
      "execution_count": null,
      "outputs": []
    },
    {
      "cell_type": "code",
      "source": [
        "#preparing for targeted training\n",
        "for i in range(0,1):\n",
        "  for j in range(0,10):\n",
        "    if con_mat[i][j] > 5 and con_mat[i][j] < 100:\n",
        "      for k in range(0,len(digits_train)):\n",
        "        if j == digits_train[k].argmax():\n",
        "          print(j,digits_train[k])\n",
        "\n",
        "\n",
        "\n",
        "\n",
        "\n",
        "\n",
        "\n",
        "\n",
        "\n",
        "\n",
        "\n",
        "\n",
        "\n",
        "\"\"\"        if digits_train[i].argmax(axis=1) == j:\n",
        "          print(digits_train[i].argmax(axis=1),j)\"\"\""
      ],
      "metadata": {
        "id": "6fJf-fmOJZU4"
      },
      "execution_count": null,
      "outputs": []
    },
    {
      "cell_type": "code",
      "source": [
        "print(con_mat[0][5])"
      ],
      "metadata": {
        "id": "1mVXEHetKzWs"
      },
      "execution_count": null,
      "outputs": []
    },
    {
      "cell_type": "code",
      "source": [
        "[299   0   2   0   2   2   2   0   1   0]\n",
        "[  0 311   5   0   0   0   0   1  22   0]\n",
        "[  9   1 250   1  13   1   2   6   9  11]\n",
        "[  0   1  13 252   0   8   0   2  13  19]\n",
        "[  1   0   1   0 264   0   1   0   8   7]\n",
        "[  2   7   3   5  10 211   5   4  12   0]\n",
        "[  3   0   1   2   2   2 292   0   0   0]\n",
        "[  0   0   7   0   2   1   0 303   0   3]\n",
        "[  1   3   4   0   0   9   7   0 263   5]\n",
        "[  0   0   0   0  15   2   0   8   1 264]"
      ],
      "metadata": {
        "id": "hnwZ7UZ0KNGL"
      },
      "execution_count": null,
      "outputs": []
    },
    {
      "cell_type": "code",
      "source": [
        "dir(con_mat)"
      ],
      "metadata": {
        "id": "8yEdlVilJg9t"
      },
      "execution_count": null,
      "outputs": []
    },
    {
      "cell_type": "code",
      "source": [
        "#heatmap from confusion matrix\n",
        "import seaborn as sns\n",
        "df = pd.DataFrame(con_mat)\n",
        "sns.heatmap(df, annot=True,fmt = \"d\" ,cmap='Blues')"
      ],
      "metadata": {
        "id": "Rw3LvZ6pbCBc"
      },
      "execution_count": null,
      "outputs": []
    },
    {
      "cell_type": "code",
      "source": [
        "#this is for saving the model after it being trained once\n",
        "model = tf.keras.Sequential()\n",
        "\n",
        "model.add(tf.keras.layers.Dense(784,input_shape = (784,)))\n",
        "model.add(tf.keras.layers.Dense(100,activation = \"selu\"))\n",
        "model.add(tf.keras.layers.Dense(100,activation = 'exponential'))\n",
        "\n",
        "model.add(tf.keras.layers.Dense(10,activation = \"softmax\"))\n",
        "          #model.add(tf.keras.layers.Dense(1,activation = None))\n",
        "\n",
        "\n",
        "model.compile(\n",
        "          optimizer = \"SGD\",\n",
        "          loss = 'CategoricalCrossentropy',\n",
        "          metrics = [\"accuracy\"],\n",
        "          loss_weights = None,\n",
        "          sample_weight_mode = None,\n",
        "          weighted_metrics = None,\n",
        "          target_tensors = None\n",
        "          )\n",
        "\n",
        "model.fit(data_train, digits_train,validation_data=(data_test, digits_test),\n",
        "    # it will use 'batch_size' number\n",
        "    # of examples per example\n",
        "    batch_size = 700,\n",
        "    epochs = 1,  # total epoch\n",
        "    )\n",
        "train_loss, train_acc  = model.evaluate(data_train,  digits_train)\n",
        "test_loss, test_acc  = model.evaluate(data_test,  digits_test)\n",
        "digits_test_predict = model.predict(data_test)\n",
        "con_mat = tf.math.confusion_matrix(labels=digits_test.argmax(axis=1), predictions=digits_test_predict.argmax(axis=1)).numpy()\n",
        "\n"
      ],
      "metadata": {
        "id": "0BzJYnkUU5Qb"
      },
      "execution_count": null,
      "outputs": []
    },
    {
      "cell_type": "code",
      "source": [
        "# Save the entire model as a `.keras` zip archive.\n",
        "model.save('my_model.keras')"
      ],
      "metadata": {
        "id": "gIC-4NtUTq6B"
      },
      "execution_count": null,
      "outputs": []
    },
    {
      "cell_type": "code",
      "source": [
        "new_model = tf.keras.models.load_model('my_model.keras')\n",
        "\n",
        "# Show the model architecture\n",
        "new_model.summary()\n"
      ],
      "metadata": {
        "id": "jVj0yHmdV8V4"
      },
      "execution_count": null,
      "outputs": []
    },
    {
      "cell_type": "code",
      "source": [
        "digits_test_predict = new_model.predict(data_test)\n",
        "con_mat = tf.math.confusion_matrix(labels=digits_test.argmax(axis=1), predictions=digits_test_predict.argmax(axis=1)).numpy()\n"
      ],
      "metadata": {
        "id": "c7kBdTEZZp9g"
      },
      "execution_count": null,
      "outputs": []
    },
    {
      "cell_type": "code",
      "source": [
        "#heatmap from confusion matrix\n",
        "import seaborn as sns\n",
        "df = pd.DataFrame(con_mat)\n",
        "sns.heatmap(df, annot=True,fmt = \"d\" ,cmap='Blues')"
      ],
      "metadata": {
        "id": "Z_FtcJaeZwRt"
      },
      "execution_count": null,
      "outputs": []
    },
    {
      "cell_type": "code",
      "source": [
        "dir(new_model.metrics)"
      ],
      "metadata": {
        "id": "mJIDGKJfZWyI"
      },
      "execution_count": null,
      "outputs": []
    },
    {
      "cell_type": "code",
      "source": [
        "#this can be used during optimisation of hyperparameters\n",
        "func_1 = [\"relu\", \"sigmoid\", \"softmax\", \"softplus\", \"softsign\", \"tanh\", \"selu\", \"elu\", \"exponential\"]\n",
        "func_2 = []\n",
        "number_of_units = []\n",
        "loss_on_train = []\n",
        "loss_on_test = []\n",
        "accuracy_on_train = []\n",
        "accuracy_on_test = []\n",
        "mat_on_train = []\n",
        "mat_on_test = []\n",
        "\n",
        "for i in range(0,3000,100):\n",
        "  for j in range(0,1):\n",
        "    model = tf.keras.Sequential()\n",
        "\n",
        "    model.add(tf.keras.layers.Dense(784,input_shape = (784,)))\n",
        "    model.add(tf.keras.layers.Dense(3800,activation = \"selu\"))\n",
        "    model.add(tf.keras.layers.Dense(1000 + i,activation = 'exponential'))\n",
        "\n",
        "    model.add(tf.keras.layers.Dense(10,activation = \"softmax\"))\n",
        "          #model.add(tf.keras.layers.Dense(1,activation = None))\n",
        "\n",
        "\n",
        "    model.compile(\n",
        "          optimizer = \"SGD\",\n",
        "          loss = 'CategoricalCrossentropy',\n",
        "          metrics = [\"accuracy\"],\n",
        "          loss_weights = None,\n",
        "          sample_weight_mode = None,\n",
        "          weighted_metrics = None,\n",
        "          target_tensors = None\n",
        "          )\n",
        "\n",
        "    model.fit(data_train, digits_train,validation_data=(data_test, digits_test),\n",
        "    # it will use 'batch_size' number\n",
        "    # of examples per example\n",
        "    batch_size = 700,\n",
        "    epochs = 20,  # total epoch\n",
        "    )\n",
        "    train_loss, train_acc  = model.evaluate(data_train,  digits_train)\n",
        "    test_loss, test_acc  = model.evaluate(data_test,  digits_test)\n",
        "    number_of_units.append(i+1000)\n",
        "\n",
        "    loss_on_train.append(train_loss)\n",
        "    accuracy_on_train.append(train_acc)\n",
        "    loss_on_test.append(test_loss)\n",
        "    accuracy_on_test.append(test_acc)\n",
        "    plt.plot(number_of_units,loss_on_train, color = \"green\")\n",
        "    plt.plot(number_of_units,loss_on_test, color = \"red\")\n",
        "    plt.plot(number_of_units,accuracy_on_train, color = \"yellow\")\n",
        "    plt.plot(number_of_units,accuracy_on_test, color = \"blue\")\n",
        "    plt.show\n",
        "    digits_train_predict = model.predict(data_train)\n",
        "    con_mat = tf.math.confusion_matrix(labels=digits_train.argmax(axis=1), predictions=digits_train_predict.argmax(axis=1)).numpy()\n",
        "    mat_on_train.append(con_mat)\n",
        "    digits_test_predict = model.predict(data_test)\n",
        "    con_mat = tf.math.confusion_matrix(labels=digits_train.argmax(axis=1), predictions=digits_train_predict.argmax(axis=1)).numpy()\n",
        "    mat_on_test.append(con_mat)\n",
        "\n",
        "plt.plot(number_of_units,loss_on_train, color = \"green\")\n",
        "plt.show\n",
        "plt.plot(number_of_units,loss_on_test, color = \"red\")\n",
        "plt.show\n",
        "plt.plot(number_of_units,accuracy_on_train, color = \"yellow\")\n",
        "plt.show\n",
        "plt.plot(number_of_units,accuracy_on_test, color = \"blue\")\n",
        "plt.show\n",
        "\n",
        "print(accuracy_on_train[loss_on_train.index(min(loss_on_train))])\n",
        "print(min(loss_on_train))\n",
        "print(number_of_units[loss_on_train.index(min(loss_on_train))])\n",
        "print(accuracy_on_test[loss_on_train.index(min(loss_on_train))])\n",
        "print(loss_on_test[loss_on_train.index(min(loss_on_train))])\n",
        "print(accuracy_on_test[loss_on_test.index(min(loss_on_test))])\n",
        "print(min(loss_on_test))\n",
        "print(number_of_units[loss_on_test.index(min(loss_on_test))])\n",
        "print(accuracy_on_train[loss_on_test.index(min(loss_on_test))])\n",
        "print(loss_on_train[loss_on_test.index(min(loss_on_test))])\n",
        "\n",
        "print(mat_on_train[loss_on_train.index(min(loss_on_train))])\n",
        "print(mat_on_test[loss_on_test.index(min(loss_on_test))])\n"
      ],
      "metadata": {
        "id": "bNkrBWUaSA1U"
      },
      "execution_count": null,
      "outputs": []
    },
    {
      "cell_type": "code",
      "execution_count": null,
      "metadata": {
        "id": "mjaDPYKMt14H"
      },
      "outputs": [],
      "source": [
        "plt.plot(x,y, color = \"green\",)"
      ]
    },
    {
      "cell_type": "code",
      "execution_count": null,
      "metadata": {
        "id": "2lPSACeS4ONy"
      },
      "outputs": [],
      "source": [
        "con_mat = tf.math.confusion_matrix(labels=digits_train.argmax(axis=1), predictions=digits_train_predict.argmax(axis=1)).numpy()\n"
      ]
    },
    {
      "cell_type": "code",
      "execution_count": null,
      "metadata": {
        "id": "314uLupdsXfT"
      },
      "outputs": [],
      "source": [
        "print(z[y.index(min(y))])\n",
        "print(min(y))\n",
        "print(max(y))\n",
        "print(x[y.index(min(y))])"
      ]
    },
    {
      "cell_type": "markdown",
      "metadata": {
        "id": "VgC0QG0ie1Zv"
      },
      "source": [
        "# New Section"
      ]
    },
    {
      "cell_type": "code",
      "execution_count": null,
      "metadata": {
        "id": "d5M6FtQvbKxe"
      },
      "outputs": [],
      "source": [
        "plt.plot(x,y, color = \"green\")\n",
        "plt.show()\n",
        "#plt.plot(x,z, color = \"red\")\n",
        "plt.plot(x,z, color = \"blue\")\n",
        "plt.show()"
      ]
    },
    {
      "cell_type": "code",
      "execution_count": null,
      "metadata": {
        "id": "WrwBswTFp28T"
      },
      "outputs": [],
      "source": [
        "data_train.to_numpy()\n",
        "data_test.to_numpy()\n",
        "digits_train.to_numpy()\n",
        "digits_test.to_numpy()"
      ]
    },
    {
      "cell_type": "code",
      "execution_count": null,
      "metadata": {
        "id": "Nmi5HfI_aTVa"
      },
      "outputs": [],
      "source": [
        "data_train.iloc[12]"
      ]
    },
    {
      "cell_type": "code",
      "execution_count": null,
      "metadata": {
        "id": "MyzFb5wgpyPZ"
      },
      "outputs": [],
      "source": [
        "#no need to run this anymore\n",
        "def convert(x):\n",
        "  arr = [0,0,0,0,0,0,0,0,0,0]\n",
        "  arr[x] = 1\n",
        "  return(arr)\n",
        "digit_train = []\n",
        "for i in range(len(digits_train)):\n",
        "  arr = convert(digits_train[i])\n",
        "  digit_train.append(arr)\n",
        "digit_test = []\n",
        "for i in range(len(digits_test)):\n",
        "\n",
        "  arr = convert(digits_test[i + 7000])\n",
        "  digit_test.append(arr)"
      ]
    },
    {
      "cell_type": "code",
      "execution_count": null,
      "metadata": {
        "id": "hk-s2f_SEAgU"
      },
      "outputs": [],
      "source": [
        "digits_train = digits_train/10"
      ]
    },
    {
      "cell_type": "code",
      "execution_count": null,
      "metadata": {
        "id": "VZ47iUssctNw"
      },
      "outputs": [],
      "source": [
        "digits_test = digits_test/10"
      ]
    },
    {
      "cell_type": "code",
      "execution_count": null,
      "metadata": {
        "id": "dEL_Zg3s5-Md"
      },
      "outputs": [],
      "source": [
        "0.9984285831451416\n",
        "0.056694917380809784\n",
        "0.19200673699378967\n",
        "5000"
      ]
    },
    {
      "cell_type": "code",
      "execution_count": null,
      "metadata": {
        "id": "EhxSIET0feJ4"
      },
      "outputs": [],
      "source": [
        "a = min(t)\n",
        "b = y.index(a)\n",
        "print(x[b])"
      ]
    },
    {
      "cell_type": "code",
      "execution_count": null,
      "metadata": {
        "id": "8218ocw_gLW3"
      },
      "outputs": [],
      "source": [
        "print(y[b])"
      ]
    },
    {
      "cell_type": "code",
      "execution_count": null,
      "metadata": {
        "id": "n5n7mw3zEyHO"
      },
      "outputs": [],
      "source": [
        "|model.summary()"
      ]
    },
    {
      "cell_type": "markdown",
      "metadata": {
        "id": "-ik7Q3Fzr-p8"
      },
      "source": [
        "type(data_test)\n"
      ]
    },
    {
      "cell_type": "code",
      "execution_count": null,
      "metadata": {
        "id": "VNzAY06IYKmn"
      },
      "outputs": [],
      "source": [
        "print(train_acc)"
      ]
    },
    {
      "cell_type": "code",
      "execution_count": null,
      "metadata": {
        "id": "FqJUMiHfUrAN"
      },
      "outputs": [],
      "source": []
    },
    {
      "cell_type": "code",
      "execution_count": null,
      "metadata": {
        "id": "WqI0FEO54XN1"
      },
      "outputs": [],
      "source": [
        "test_loss, test_acc, test_prec = model.evaluate(data_test,  digits_test)\n",
        "\n",
        "print('Test accuracy:', test_acc)\n",
        "print('Test loss:', test_loss)\n",
        "print('Test precision:', test_prec)"
      ]
    },
    {
      "cell_type": "code",
      "execution_count": null,
      "metadata": {
        "id": "AqZCBFyFYKmq"
      },
      "outputs": [],
      "source": [
        "digit_predict = model.predict(data_test)"
      ]
    },
    {
      "cell_type": "code",
      "execution_count": null,
      "metadata": {
        "id": "CgZg0Ol58ZPk"
      },
      "outputs": [],
      "source": [
        "digit2_predict = model.predict(data_train)"
      ]
    },
    {
      "cell_type": "code",
      "execution_count": null,
      "metadata": {
        "id": "9cxLxWOZn5ZY"
      },
      "outputs": [],
      "source": [
        "np.argmax(digit2_predict[1])"
      ]
    },
    {
      "cell_type": "code",
      "execution_count": null,
      "metadata": {
        "id": "xrj6pjxldtH2"
      },
      "outputs": [],
      "source": [
        "def image_show(a):\n",
        "   x = pd.DataFrame(data_test).to_numpy()\n",
        "   z = []\n",
        "   y = []\n",
        "   for j in range(len(x[a][1:])):\n",
        "\n",
        "     b = [x[a][0:][j]%256,0,0]\n",
        "     y.append(b)\n",
        "     #print(y,len(y),i)\n",
        "\n",
        "     if len(y) == 28:\n",
        "         #print(\"ahahah\")\n",
        "         z.append(y)\n",
        "         y = []\n",
        "\n",
        "   return z\n"
      ]
    },
    {
      "cell_type": "code",
      "execution_count": null,
      "metadata": {
        "id": "VMl5bdolds2q"
      },
      "outputs": [],
      "source": [
        "import random\n",
        "var1 = random.randint(0,3000)\n",
        "for a in range(var1,var1 + 5):\n",
        "  z = image_show(a)\n",
        "\n",
        "  imgplot = plt.imshow(z)\n",
        "  plt.show()\n",
        "  #var = digit_predict[a]\n",
        "  #var = float(var)\n",
        "  #print(round(var))\n",
        "  print(np.argmax(digit_predict[a]),np.argmax(digits_train[a]))"
      ]
    },
    {
      "cell_type": "code",
      "execution_count": null,
      "metadata": {
        "id": "-SZBkKCuRQ-i"
      },
      "outputs": [],
      "source": [
        "digits_test.iloc[0]"
      ]
    },
    {
      "cell_type": "code",
      "source": [
        "#heatmap from confusion matrix\n",
        "import seaborn as sns\n",
        "df = pd.DataFrame(B)\n",
        "sns.heatmap(df, annot=True,fmt = \"d\" ,cmap='Blues')"
      ],
      "metadata": {
        "id": "7k64csRZjthH"
      },
      "execution_count": null,
      "outputs": []
    },
    {
      "cell_type": "code",
      "source": [],
      "metadata": {
        "id": "IvGBRYbfkEXW"
      },
      "execution_count": null,
      "outputs": []
    }
  ],
  "metadata": {
    "colab": {
      "provenance": []
    },
    "kernelspec": {
      "display_name": "Python 3",
      "name": "python3"
    },
    "language_info": {
      "name": "python"
    }
  },
  "nbformat": 4,
  "nbformat_minor": 0
}